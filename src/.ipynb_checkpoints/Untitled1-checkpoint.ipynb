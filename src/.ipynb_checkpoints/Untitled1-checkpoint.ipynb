{
 "cells": [
  {
   "cell_type": "markdown",
   "metadata": {},
   "source": [
    "## Insight pharmacy counting problem"
   ]
  },
  {
   "cell_type": "code",
   "execution_count": 512,
   "metadata": {},
   "outputs": [],
   "source": [
    "# input file\n",
    "input_file = '../insight_testsuite/tests/test_1/input/itcont.txt'#../input/itcont.txt' "
   ]
  },
  {
   "cell_type": "code",
   "execution_count": 513,
   "metadata": {},
   "outputs": [
    {
     "name": "stdout",
     "output_type": "stream",
     "text": [
      "header ['id,prescriber_last_name,prescriber_first_name,drug_name,drug_cost\\n']\n"
     ]
    }
   ],
   "source": [
    "with open(input_file,'r') as f:\n",
    "    header=f.readlines(10)\n",
    "f.close()   \n",
    "print('header',header) # header of the input file "
   ]
  },
  {
   "cell_type": "code",
   "execution_count": 514,
   "metadata": {},
   "outputs": [],
   "source": [
    "# readin data line by line\n",
    "prescriber=[]\n",
    "drug_name=[]\n",
    "drug_cost=[]\n",
    "with open(input_file,'r') as f:\n",
    "    next(f) # skip the first line \n",
    "    for line in f.readlines():\n",
    "        prescriber.append(line.replace('\\n', '').split(',')[1]+line.replace('\\n', '').split(',')[2])\n",
    "        drug_name.append(line.replace('\\n', '').split(',')[3])\n",
    "        drug_cost.append(line.replace('\\n', '').split(',')[4])\n",
    "f.close()"
   ]
  },
  {
   "cell_type": "code",
   "execution_count": 515,
   "metadata": {},
   "outputs": [
    {
     "name": "stdout",
     "output_type": "stream",
     "text": [
      "Number of Drug 54\n"
     ]
    }
   ],
   "source": [
    "print('Number of Drug',len(set(drug_name)))"
   ]
  },
  {
   "cell_type": "code",
   "execution_count": 516,
   "metadata": {},
   "outputs": [],
   "source": [
    "# drug_name & drug_cost \n",
    "name_cost=tuple(zip(drug_name,drug_cost))"
   ]
  },
  {
   "cell_type": "code",
   "execution_count": 517,
   "metadata": {},
   "outputs": [],
   "source": [
    "total_cost={}  # add up the cost of drug using the drug name as key \n",
    "for name,cost in name_cost:\n",
    "    # format float or int \n",
    "    if len(cost.split('.'))>1:\n",
    "        cost=float(cost)\n",
    "    else:\n",
    "        cost=int(cost)\n",
    "        \n",
    "    if name in total_cost:\n",
    "        total_cost[name] += (cost)\n",
    "    else:\n",
    "        total_cost[name]=(cost)       "
   ]
  },
  {
   "cell_type": "code",
   "execution_count": 518,
   "metadata": {},
   "outputs": [],
   "source": [
    "# drug_name & prescriber\n",
    "name_pres=tuple(zip(drug_name,prescriber))\n",
    "#name_pres"
   ]
  },
  {
   "cell_type": "code",
   "execution_count": 519,
   "metadata": {},
   "outputs": [],
   "source": [
    "# number of prescriber \n",
    "num_prescriber={}         # count the number of prescribers based on the drug name as key \n",
    "for name,pres in name_pres:\n",
    "    pres_u=[]  \n",
    "    if name in num_prescriber:\n",
    "        num_prescriber[name].append(pres) \n",
    "    else:\n",
    "        pres_u.append(pres)\n",
    "        num_prescriber[name]=(pres_u)\n",
    "        \n",
    "\n",
    "for name in set(drug_name):  #UNIQUE of prescriber \n",
    "    #print(name)\n",
    "    num_prescriber[name]=len(set(num_prescriber[name]))    "
   ]
  },
  {
   "cell_type": "code",
   "execution_count": 520,
   "metadata": {},
   "outputs": [],
   "source": [
    "#write output file\n",
    "output_file='../output/top_cost_drug.txt'\n",
    "with open(output_file,'w') as f:\n",
    "    f.write('drug_name,num_prescriber,total_cost') #header\n",
    "    f.write('\\n')\n",
    "    for name in sorted(total_cost, key=total_cost.get, reverse=True):  #in descending order \n",
    "        count=str(num_prescriber[name])\n",
    "        tot=str(total_cost[name])\n",
    "        f.write('%s' %(','.join((name,count,tot))))\n",
    "        f.write('\\n')\n",
    "        \n",
    "    f.truncate(f.tell()-1) # remove the newline at the very end \n",
    "f.close()        "
   ]
  }
 ],
 "metadata": {
  "kernelspec": {
   "display_name": "Python 3",
   "language": "python",
   "name": "python3"
  },
  "language_info": {
   "codemirror_mode": {
    "name": "ipython",
    "version": 3
   },
   "file_extension": ".py",
   "mimetype": "text/x-python",
   "name": "python",
   "nbconvert_exporter": "python",
   "pygments_lexer": "ipython3",
   "version": "3.6.5"
  }
 },
 "nbformat": 4,
 "nbformat_minor": 2
}
